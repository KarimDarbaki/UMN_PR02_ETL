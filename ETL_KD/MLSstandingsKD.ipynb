{
 "cells": [
  {
   "cell_type": "code",
   "execution_count": 1,
   "metadata": {},
   "outputs": [],
   "source": [
    "import pandas as pd"
   ]
  },
  {
   "cell_type": "code",
   "execution_count": 2,
   "metadata": {},
   "outputs": [],
   "source": [
    "url = 'https://www.mlssoccer.com/standings/supporters-shield/2018/'"
   ]
  },
  {
   "cell_type": "code",
   "execution_count": 3,
   "metadata": {},
   "outputs": [
    {
     "output_type": "execute_result",
     "data": {
      "text/plain": "[   Unnamed: 0                     Unnamed: 1 Points Points.1  Unnamed: 4  \\\n 0           #                           Club    PTS      PPG         NaN   \n 1           1         RBNYNew York Red Bulls     71     2.09         NaN   \n 2           2           ATLAtlanta United FC     69     2.03         NaN   \n 3           3        SKCSporting Kansas City     62     1.82         NaN   \n 4           4         SEASeattle Sounders FC     59     1.74         NaN   \n 5           5  LAFCLos Angeles Football Club     57     1.68         NaN   \n 6           6                   DALFC Dallas     57     1.68         NaN   \n 7           7            NYCNew York City FC     56     1.65         NaN   \n 8           8            PORPortland Timbers     54     1.59         NaN   \n 9           9                  DCD.C. United     51      1.5         NaN   \n 10         10            CLBColumbus Crew SC     51      1.5         NaN   \n 11         11          PHIPhiladelphia Union     50     1.47         NaN   \n 12         12              RSLReal Salt Lake     49     1.44         NaN   \n 13         13                    LALA Galaxy     48     1.41         NaN   \n 14         14      VANVancouver Whitecaps FC     47     1.38         NaN   \n 15         15             MTLMontreal Impact     46     1.35         NaN   \n 16         16       NENew England Revolution     41     1.21         NaN   \n 17         17              HOUHouston Dynamo     38     1.12         NaN   \n 18         18         MINMinnesota United FC     36     1.06         NaN   \n 19         19                  TORToronto FC     36     1.06         NaN   \n 20         20             CHIChicago Fire FC     32     0.94         NaN   \n 21         21             COLColorado Rapids     31     0.91         NaN   \n 22         22             ORLOrlando City SC     28     0.82         NaN   \n 23         23         SJSan Jose Earthquakes     21     0.62         NaN   \n \n    Overall Overall.1 Overall.2 Overall.3 Overall.4 Overall.5 Overall.6  \\\n 0       GP         W         L         T        GF        GA        GD   \n 1       34        22         7         5        62        33        29   \n 2       34        21         7         6        70        44        26   \n 3       34        18         8         8        65        40        25   \n 4       34        18        11         5        52        37        15   \n 5       34        16         9         9        68        52        16   \n 6       34        16         9         9        52        44         8   \n 7       34        16        10         8        59        45        14   \n 8       34        15        10         9        54        48         6   \n 9       34        14        11         9        60        50        10   \n 10      34        14        11         9        43        45        -2   \n 11      34        15        14         5        49        50        -1   \n 12      34        14        13         7        55        58        -3   \n 13      34        13        12         9        66        64         2   \n 14      34        13        13         8        54        67       -13   \n 15      34        14        16         4        47        53        -6   \n 16      34        10        13        11        49        55        -6   \n 17      34        10        16         8        58        58         0   \n 18      34        11        20         3        49        71       -22   \n 19      34        10        18         6        59        64        -5   \n 20      34         8        18         8        48        61       -13   \n 21      34         8        19         7        36        63       -27   \n 22      34         8        22         4        43        74       -31   \n 23      34         4        21         9        49        71       -22   \n \n     Unnamed: 12    Home  Unnamed: 14    Away  \n 0           NaN   W-L-T          NaN   W-L-T  \n 1           NaN  14-2-1          NaN   8-5-4  \n 2           NaN  11-2-4          NaN  10-5-2  \n 3           NaN  10-2-5          NaN   8-6-3  \n 4           NaN  10-5-2          NaN   8-6-3  \n 5           NaN   9-1-7          NaN   7-8-2  \n 6           NaN  10-2-5          NaN   6-7-4  \n 7           NaN  12-1-4          NaN   4-9-4  \n 8           NaN  11-2-4          NaN   4-8-5  \n 9           NaN  13-2-2          NaN   1-9-7  \n 10          NaN  11-2-4          NaN   3-9-5  \n 11          NaN   9-6-2          NaN   6-8-3  \n 12          NaN  11-2-4          NaN  3-11-3  \n 13          NaN   8-5-4          NaN   5-7-5  \n 14          NaN   7-5-5          NaN   6-8-3  \n 15          NaN  11-4-2          NaN  3-12-2  \n 16          NaN   8-4-5          NaN   2-9-6  \n 17          NaN   8-6-3          NaN  2-10-5  \n 18          NaN  10-6-1          NaN  1-14-2  \n 19          NaN   8-7-2          NaN  2-11-4  \n 20          NaN   6-7-4          NaN  2-11-4  \n 21          NaN   6-8-3          NaN  2-11-4  \n 22          NaN   6-7-4          NaN  2-15-0  \n 23          NaN   2-9-6          NaN  2-12-3  ]"
     },
     "metadata": {},
     "execution_count": 3
    }
   ],
   "source": [
    "tables = pd.read_html(url)\n",
    "tables"
   ]
  },
  {
   "cell_type": "code",
   "execution_count": 4,
   "metadata": {},
   "outputs": [
    {
     "output_type": "execute_result",
     "data": {
      "text/plain": "  Unnamed: 0               Unnamed: 1 Points Points.1  Unnamed: 4 Overall  \\\n0          #                     Club    PTS      PPG         NaN      GP   \n1          1   RBNYNew York Red Bulls     71     2.09         NaN      34   \n2          2     ATLAtlanta United FC     69     2.03         NaN      34   \n3          3  SKCSporting Kansas City     62     1.82         NaN      34   \n4          4   SEASeattle Sounders FC     59     1.74         NaN      34   \n\n  Overall.1 Overall.2 Overall.3 Overall.4 Overall.5 Overall.6  Unnamed: 12  \\\n0         W         L         T        GF        GA        GD          NaN   \n1        22         7         5        62        33        29          NaN   \n2        21         7         6        70        44        26          NaN   \n3        18         8         8        65        40        25          NaN   \n4        18        11         5        52        37        15          NaN   \n\n     Home  Unnamed: 14    Away  \n0   W-L-T          NaN   W-L-T  \n1  14-2-1          NaN   8-5-4  \n2  11-2-4          NaN  10-5-2  \n3  10-2-5          NaN   8-6-3  \n4  10-5-2          NaN   8-6-3  ",
      "text/html": "<div>\n<style scoped>\n    .dataframe tbody tr th:only-of-type {\n        vertical-align: middle;\n    }\n\n    .dataframe tbody tr th {\n        vertical-align: top;\n    }\n\n    .dataframe thead th {\n        text-align: right;\n    }\n</style>\n<table border=\"1\" class=\"dataframe\">\n  <thead>\n    <tr style=\"text-align: right;\">\n      <th></th>\n      <th>Unnamed: 0</th>\n      <th>Unnamed: 1</th>\n      <th>Points</th>\n      <th>Points.1</th>\n      <th>Unnamed: 4</th>\n      <th>Overall</th>\n      <th>Overall.1</th>\n      <th>Overall.2</th>\n      <th>Overall.3</th>\n      <th>Overall.4</th>\n      <th>Overall.5</th>\n      <th>Overall.6</th>\n      <th>Unnamed: 12</th>\n      <th>Home</th>\n      <th>Unnamed: 14</th>\n      <th>Away</th>\n    </tr>\n  </thead>\n  <tbody>\n    <tr>\n      <th>0</th>\n      <td>#</td>\n      <td>Club</td>\n      <td>PTS</td>\n      <td>PPG</td>\n      <td>NaN</td>\n      <td>GP</td>\n      <td>W</td>\n      <td>L</td>\n      <td>T</td>\n      <td>GF</td>\n      <td>GA</td>\n      <td>GD</td>\n      <td>NaN</td>\n      <td>W-L-T</td>\n      <td>NaN</td>\n      <td>W-L-T</td>\n    </tr>\n    <tr>\n      <th>1</th>\n      <td>1</td>\n      <td>RBNYNew York Red Bulls</td>\n      <td>71</td>\n      <td>2.09</td>\n      <td>NaN</td>\n      <td>34</td>\n      <td>22</td>\n      <td>7</td>\n      <td>5</td>\n      <td>62</td>\n      <td>33</td>\n      <td>29</td>\n      <td>NaN</td>\n      <td>14-2-1</td>\n      <td>NaN</td>\n      <td>8-5-4</td>\n    </tr>\n    <tr>\n      <th>2</th>\n      <td>2</td>\n      <td>ATLAtlanta United FC</td>\n      <td>69</td>\n      <td>2.03</td>\n      <td>NaN</td>\n      <td>34</td>\n      <td>21</td>\n      <td>7</td>\n      <td>6</td>\n      <td>70</td>\n      <td>44</td>\n      <td>26</td>\n      <td>NaN</td>\n      <td>11-2-4</td>\n      <td>NaN</td>\n      <td>10-5-2</td>\n    </tr>\n    <tr>\n      <th>3</th>\n      <td>3</td>\n      <td>SKCSporting Kansas City</td>\n      <td>62</td>\n      <td>1.82</td>\n      <td>NaN</td>\n      <td>34</td>\n      <td>18</td>\n      <td>8</td>\n      <td>8</td>\n      <td>65</td>\n      <td>40</td>\n      <td>25</td>\n      <td>NaN</td>\n      <td>10-2-5</td>\n      <td>NaN</td>\n      <td>8-6-3</td>\n    </tr>\n    <tr>\n      <th>4</th>\n      <td>4</td>\n      <td>SEASeattle Sounders FC</td>\n      <td>59</td>\n      <td>1.74</td>\n      <td>NaN</td>\n      <td>34</td>\n      <td>18</td>\n      <td>11</td>\n      <td>5</td>\n      <td>52</td>\n      <td>37</td>\n      <td>15</td>\n      <td>NaN</td>\n      <td>10-5-2</td>\n      <td>NaN</td>\n      <td>8-6-3</td>\n    </tr>\n  </tbody>\n</table>\n</div>"
     },
     "metadata": {},
     "execution_count": 4
    }
   ],
   "source": [
    "df = tables[0]\n",
    "# df.columns = [ '#', 'CLUB', 'PTS', \n",
    "#               'PPG','dada', 'GP', 'W', 'L', \n",
    "#               'T', 'GF', 'GA','GD','blah','HOME','waste','AWAY']\n",
    "df.head()"
   ]
  },
  {
   "cell_type": "code",
   "execution_count": 5,
   "metadata": {},
   "outputs": [],
   "source": [
    "test=df.loc[df.index[0]]"
   ]
  },
  {
   "cell_type": "code",
   "execution_count": 6,
   "metadata": {},
   "outputs": [
    {
     "output_type": "execute_result",
     "data": {
      "text/plain": "Unnamed: 0         #\nUnnamed: 1      Club\nPoints           PTS\nPoints.1         PPG\nUnnamed: 4       NaN\nOverall           GP\nOverall.1          W\nOverall.2          L\nOverall.3          T\nOverall.4         GF\nOverall.5         GA\nOverall.6         GD\nUnnamed: 12      NaN\nHome           W-L-T\nUnnamed: 14      NaN\nAway           W-L-T\nName: 0, dtype: object"
     },
     "metadata": {},
     "execution_count": 6
    }
   ],
   "source": [
    "test"
   ]
  },
  {
   "cell_type": "code",
   "execution_count": 7,
   "metadata": {},
   "outputs": [
    {
     "output_type": "execute_result",
     "data": {
      "text/plain": "0    #                           Club PTS   PPG  NaN  GP   W   L   T  GF  GA  \\\n1    1         RBNYNew York Red Bulls  71  2.09  NaN  34  22   7   5  62  33   \n2    2           ATLAtlanta United FC  69  2.03  NaN  34  21   7   6  70  44   \n3    3        SKCSporting Kansas City  62  1.82  NaN  34  18   8   8  65  40   \n4    4         SEASeattle Sounders FC  59  1.74  NaN  34  18  11   5  52  37   \n5    5  LAFCLos Angeles Football Club  57  1.68  NaN  34  16   9   9  68  52   \n6    6                   DALFC Dallas  57  1.68  NaN  34  16   9   9  52  44   \n7    7            NYCNew York City FC  56  1.65  NaN  34  16  10   8  59  45   \n8    8            PORPortland Timbers  54  1.59  NaN  34  15  10   9  54  48   \n9    9                  DCD.C. United  51   1.5  NaN  34  14  11   9  60  50   \n10  10            CLBColumbus Crew SC  51   1.5  NaN  34  14  11   9  43  45   \n11  11          PHIPhiladelphia Union  50  1.47  NaN  34  15  14   5  49  50   \n12  12              RSLReal Salt Lake  49  1.44  NaN  34  14  13   7  55  58   \n13  13                    LALA Galaxy  48  1.41  NaN  34  13  12   9  66  64   \n14  14      VANVancouver Whitecaps FC  47  1.38  NaN  34  13  13   8  54  67   \n15  15             MTLMontreal Impact  46  1.35  NaN  34  14  16   4  47  53   \n16  16       NENew England Revolution  41  1.21  NaN  34  10  13  11  49  55   \n17  17              HOUHouston Dynamo  38  1.12  NaN  34  10  16   8  58  58   \n18  18         MINMinnesota United FC  36  1.06  NaN  34  11  20   3  49  71   \n19  19                  TORToronto FC  36  1.06  NaN  34  10  18   6  59  64   \n20  20             CHIChicago Fire FC  32  0.94  NaN  34   8  18   8  48  61   \n21  21             COLColorado Rapids  31  0.91  NaN  34   8  19   7  36  63   \n22  22             ORLOrlando City SC  28  0.82  NaN  34   8  22   4  43  74   \n23  23         SJSan Jose Earthquakes  21  0.62  NaN  34   4  21   9  49  71   \n\n0    GD  NaN   W-L-T  NaN   W-L-T  \n1    29  NaN  14-2-1  NaN   8-5-4  \n2    26  NaN  11-2-4  NaN  10-5-2  \n3    25  NaN  10-2-5  NaN   8-6-3  \n4    15  NaN  10-5-2  NaN   8-6-3  \n5    16  NaN   9-1-7  NaN   7-8-2  \n6     8  NaN  10-2-5  NaN   6-7-4  \n7    14  NaN  12-1-4  NaN   4-9-4  \n8     6  NaN  11-2-4  NaN   4-8-5  \n9    10  NaN  13-2-2  NaN   1-9-7  \n10   -2  NaN  11-2-4  NaN   3-9-5  \n11   -1  NaN   9-6-2  NaN   6-8-3  \n12   -3  NaN  11-2-4  NaN  3-11-3  \n13    2  NaN   8-5-4  NaN   5-7-5  \n14  -13  NaN   7-5-5  NaN   6-8-3  \n15   -6  NaN  11-4-2  NaN  3-12-2  \n16   -6  NaN   8-4-5  NaN   2-9-6  \n17    0  NaN   8-6-3  NaN  2-10-5  \n18  -22  NaN  10-6-1  NaN  1-14-2  \n19   -5  NaN   8-7-2  NaN  2-11-4  \n20  -13  NaN   6-7-4  NaN  2-11-4  \n21  -27  NaN   6-8-3  NaN  2-11-4  \n22  -31  NaN   6-7-4  NaN  2-15-0  \n23  -22  NaN   2-9-6  NaN  2-12-3  ",
      "text/html": "<div>\n<style scoped>\n    .dataframe tbody tr th:only-of-type {\n        vertical-align: middle;\n    }\n\n    .dataframe tbody tr th {\n        vertical-align: top;\n    }\n\n    .dataframe thead th {\n        text-align: right;\n    }\n</style>\n<table border=\"1\" class=\"dataframe\">\n  <thead>\n    <tr style=\"text-align: right;\">\n      <th></th>\n      <th>#</th>\n      <th>Club</th>\n      <th>PTS</th>\n      <th>PPG</th>\n      <th>NaN</th>\n      <th>GP</th>\n      <th>W</th>\n      <th>L</th>\n      <th>T</th>\n      <th>GF</th>\n      <th>GA</th>\n      <th>GD</th>\n      <th>NaN</th>\n      <th>W-L-T</th>\n      <th>NaN</th>\n      <th>W-L-T</th>\n    </tr>\n  </thead>\n  <tbody>\n    <tr>\n      <th>1</th>\n      <td>1</td>\n      <td>RBNYNew York Red Bulls</td>\n      <td>71</td>\n      <td>2.09</td>\n      <td>NaN</td>\n      <td>34</td>\n      <td>22</td>\n      <td>7</td>\n      <td>5</td>\n      <td>62</td>\n      <td>33</td>\n      <td>29</td>\n      <td>NaN</td>\n      <td>14-2-1</td>\n      <td>NaN</td>\n      <td>8-5-4</td>\n    </tr>\n    <tr>\n      <th>2</th>\n      <td>2</td>\n      <td>ATLAtlanta United FC</td>\n      <td>69</td>\n      <td>2.03</td>\n      <td>NaN</td>\n      <td>34</td>\n      <td>21</td>\n      <td>7</td>\n      <td>6</td>\n      <td>70</td>\n      <td>44</td>\n      <td>26</td>\n      <td>NaN</td>\n      <td>11-2-4</td>\n      <td>NaN</td>\n      <td>10-5-2</td>\n    </tr>\n    <tr>\n      <th>3</th>\n      <td>3</td>\n      <td>SKCSporting Kansas City</td>\n      <td>62</td>\n      <td>1.82</td>\n      <td>NaN</td>\n      <td>34</td>\n      <td>18</td>\n      <td>8</td>\n      <td>8</td>\n      <td>65</td>\n      <td>40</td>\n      <td>25</td>\n      <td>NaN</td>\n      <td>10-2-5</td>\n      <td>NaN</td>\n      <td>8-6-3</td>\n    </tr>\n    <tr>\n      <th>4</th>\n      <td>4</td>\n      <td>SEASeattle Sounders FC</td>\n      <td>59</td>\n      <td>1.74</td>\n      <td>NaN</td>\n      <td>34</td>\n      <td>18</td>\n      <td>11</td>\n      <td>5</td>\n      <td>52</td>\n      <td>37</td>\n      <td>15</td>\n      <td>NaN</td>\n      <td>10-5-2</td>\n      <td>NaN</td>\n      <td>8-6-3</td>\n    </tr>\n    <tr>\n      <th>5</th>\n      <td>5</td>\n      <td>LAFCLos Angeles Football Club</td>\n      <td>57</td>\n      <td>1.68</td>\n      <td>NaN</td>\n      <td>34</td>\n      <td>16</td>\n      <td>9</td>\n      <td>9</td>\n      <td>68</td>\n      <td>52</td>\n      <td>16</td>\n      <td>NaN</td>\n      <td>9-1-7</td>\n      <td>NaN</td>\n      <td>7-8-2</td>\n    </tr>\n    <tr>\n      <th>6</th>\n      <td>6</td>\n      <td>DALFC Dallas</td>\n      <td>57</td>\n      <td>1.68</td>\n      <td>NaN</td>\n      <td>34</td>\n      <td>16</td>\n      <td>9</td>\n      <td>9</td>\n      <td>52</td>\n      <td>44</td>\n      <td>8</td>\n      <td>NaN</td>\n      <td>10-2-5</td>\n      <td>NaN</td>\n      <td>6-7-4</td>\n    </tr>\n    <tr>\n      <th>7</th>\n      <td>7</td>\n      <td>NYCNew York City FC</td>\n      <td>56</td>\n      <td>1.65</td>\n      <td>NaN</td>\n      <td>34</td>\n      <td>16</td>\n      <td>10</td>\n      <td>8</td>\n      <td>59</td>\n      <td>45</td>\n      <td>14</td>\n      <td>NaN</td>\n      <td>12-1-4</td>\n      <td>NaN</td>\n      <td>4-9-4</td>\n    </tr>\n    <tr>\n      <th>8</th>\n      <td>8</td>\n      <td>PORPortland Timbers</td>\n      <td>54</td>\n      <td>1.59</td>\n      <td>NaN</td>\n      <td>34</td>\n      <td>15</td>\n      <td>10</td>\n      <td>9</td>\n      <td>54</td>\n      <td>48</td>\n      <td>6</td>\n      <td>NaN</td>\n      <td>11-2-4</td>\n      <td>NaN</td>\n      <td>4-8-5</td>\n    </tr>\n    <tr>\n      <th>9</th>\n      <td>9</td>\n      <td>DCD.C. United</td>\n      <td>51</td>\n      <td>1.5</td>\n      <td>NaN</td>\n      <td>34</td>\n      <td>14</td>\n      <td>11</td>\n      <td>9</td>\n      <td>60</td>\n      <td>50</td>\n      <td>10</td>\n      <td>NaN</td>\n      <td>13-2-2</td>\n      <td>NaN</td>\n      <td>1-9-7</td>\n    </tr>\n    <tr>\n      <th>10</th>\n      <td>10</td>\n      <td>CLBColumbus Crew SC</td>\n      <td>51</td>\n      <td>1.5</td>\n      <td>NaN</td>\n      <td>34</td>\n      <td>14</td>\n      <td>11</td>\n      <td>9</td>\n      <td>43</td>\n      <td>45</td>\n      <td>-2</td>\n      <td>NaN</td>\n      <td>11-2-4</td>\n      <td>NaN</td>\n      <td>3-9-5</td>\n    </tr>\n    <tr>\n      <th>11</th>\n      <td>11</td>\n      <td>PHIPhiladelphia Union</td>\n      <td>50</td>\n      <td>1.47</td>\n      <td>NaN</td>\n      <td>34</td>\n      <td>15</td>\n      <td>14</td>\n      <td>5</td>\n      <td>49</td>\n      <td>50</td>\n      <td>-1</td>\n      <td>NaN</td>\n      <td>9-6-2</td>\n      <td>NaN</td>\n      <td>6-8-3</td>\n    </tr>\n    <tr>\n      <th>12</th>\n      <td>12</td>\n      <td>RSLReal Salt Lake</td>\n      <td>49</td>\n      <td>1.44</td>\n      <td>NaN</td>\n      <td>34</td>\n      <td>14</td>\n      <td>13</td>\n      <td>7</td>\n      <td>55</td>\n      <td>58</td>\n      <td>-3</td>\n      <td>NaN</td>\n      <td>11-2-4</td>\n      <td>NaN</td>\n      <td>3-11-3</td>\n    </tr>\n    <tr>\n      <th>13</th>\n      <td>13</td>\n      <td>LALA Galaxy</td>\n      <td>48</td>\n      <td>1.41</td>\n      <td>NaN</td>\n      <td>34</td>\n      <td>13</td>\n      <td>12</td>\n      <td>9</td>\n      <td>66</td>\n      <td>64</td>\n      <td>2</td>\n      <td>NaN</td>\n      <td>8-5-4</td>\n      <td>NaN</td>\n      <td>5-7-5</td>\n    </tr>\n    <tr>\n      <th>14</th>\n      <td>14</td>\n      <td>VANVancouver Whitecaps FC</td>\n      <td>47</td>\n      <td>1.38</td>\n      <td>NaN</td>\n      <td>34</td>\n      <td>13</td>\n      <td>13</td>\n      <td>8</td>\n      <td>54</td>\n      <td>67</td>\n      <td>-13</td>\n      <td>NaN</td>\n      <td>7-5-5</td>\n      <td>NaN</td>\n      <td>6-8-3</td>\n    </tr>\n    <tr>\n      <th>15</th>\n      <td>15</td>\n      <td>MTLMontreal Impact</td>\n      <td>46</td>\n      <td>1.35</td>\n      <td>NaN</td>\n      <td>34</td>\n      <td>14</td>\n      <td>16</td>\n      <td>4</td>\n      <td>47</td>\n      <td>53</td>\n      <td>-6</td>\n      <td>NaN</td>\n      <td>11-4-2</td>\n      <td>NaN</td>\n      <td>3-12-2</td>\n    </tr>\n    <tr>\n      <th>16</th>\n      <td>16</td>\n      <td>NENew England Revolution</td>\n      <td>41</td>\n      <td>1.21</td>\n      <td>NaN</td>\n      <td>34</td>\n      <td>10</td>\n      <td>13</td>\n      <td>11</td>\n      <td>49</td>\n      <td>55</td>\n      <td>-6</td>\n      <td>NaN</td>\n      <td>8-4-5</td>\n      <td>NaN</td>\n      <td>2-9-6</td>\n    </tr>\n    <tr>\n      <th>17</th>\n      <td>17</td>\n      <td>HOUHouston Dynamo</td>\n      <td>38</td>\n      <td>1.12</td>\n      <td>NaN</td>\n      <td>34</td>\n      <td>10</td>\n      <td>16</td>\n      <td>8</td>\n      <td>58</td>\n      <td>58</td>\n      <td>0</td>\n      <td>NaN</td>\n      <td>8-6-3</td>\n      <td>NaN</td>\n      <td>2-10-5</td>\n    </tr>\n    <tr>\n      <th>18</th>\n      <td>18</td>\n      <td>MINMinnesota United FC</td>\n      <td>36</td>\n      <td>1.06</td>\n      <td>NaN</td>\n      <td>34</td>\n      <td>11</td>\n      <td>20</td>\n      <td>3</td>\n      <td>49</td>\n      <td>71</td>\n      <td>-22</td>\n      <td>NaN</td>\n      <td>10-6-1</td>\n      <td>NaN</td>\n      <td>1-14-2</td>\n    </tr>\n    <tr>\n      <th>19</th>\n      <td>19</td>\n      <td>TORToronto FC</td>\n      <td>36</td>\n      <td>1.06</td>\n      <td>NaN</td>\n      <td>34</td>\n      <td>10</td>\n      <td>18</td>\n      <td>6</td>\n      <td>59</td>\n      <td>64</td>\n      <td>-5</td>\n      <td>NaN</td>\n      <td>8-7-2</td>\n      <td>NaN</td>\n      <td>2-11-4</td>\n    </tr>\n    <tr>\n      <th>20</th>\n      <td>20</td>\n      <td>CHIChicago Fire FC</td>\n      <td>32</td>\n      <td>0.94</td>\n      <td>NaN</td>\n      <td>34</td>\n      <td>8</td>\n      <td>18</td>\n      <td>8</td>\n      <td>48</td>\n      <td>61</td>\n      <td>-13</td>\n      <td>NaN</td>\n      <td>6-7-4</td>\n      <td>NaN</td>\n      <td>2-11-4</td>\n    </tr>\n    <tr>\n      <th>21</th>\n      <td>21</td>\n      <td>COLColorado Rapids</td>\n      <td>31</td>\n      <td>0.91</td>\n      <td>NaN</td>\n      <td>34</td>\n      <td>8</td>\n      <td>19</td>\n      <td>7</td>\n      <td>36</td>\n      <td>63</td>\n      <td>-27</td>\n      <td>NaN</td>\n      <td>6-8-3</td>\n      <td>NaN</td>\n      <td>2-11-4</td>\n    </tr>\n    <tr>\n      <th>22</th>\n      <td>22</td>\n      <td>ORLOrlando City SC</td>\n      <td>28</td>\n      <td>0.82</td>\n      <td>NaN</td>\n      <td>34</td>\n      <td>8</td>\n      <td>22</td>\n      <td>4</td>\n      <td>43</td>\n      <td>74</td>\n      <td>-31</td>\n      <td>NaN</td>\n      <td>6-7-4</td>\n      <td>NaN</td>\n      <td>2-15-0</td>\n    </tr>\n    <tr>\n      <th>23</th>\n      <td>23</td>\n      <td>SJSan Jose Earthquakes</td>\n      <td>21</td>\n      <td>0.62</td>\n      <td>NaN</td>\n      <td>34</td>\n      <td>4</td>\n      <td>21</td>\n      <td>9</td>\n      <td>49</td>\n      <td>71</td>\n      <td>-22</td>\n      <td>NaN</td>\n      <td>2-9-6</td>\n      <td>NaN</td>\n      <td>2-12-3</td>\n    </tr>\n  </tbody>\n</table>\n</div>"
     },
     "metadata": {},
     "execution_count": 7
    }
   ],
   "source": [
    "df.columns=test\n",
    "\n",
    "df\n",
    "df.drop([0],inplace= True)\n",
    "df\n",
    "\n",
    "\n"
   ]
  },
  {
   "cell_type": "code",
   "execution_count": 15,
   "metadata": {},
   "outputs": [
    {
     "output_type": "execute_result",
     "data": {
      "text/plain": "0                            Club PTS   PPG  NaN  GP   W   L   T  GF  GA   GD  \\\n#                                                                               \n1          RBNYNew York Red Bulls  71  2.09  NaN  34  22   7   5  62  33   29   \n2            ATLAtlanta United FC  69  2.03  NaN  34  21   7   6  70  44   26   \n3         SKCSporting Kansas City  62  1.82  NaN  34  18   8   8  65  40   25   \n4          SEASeattle Sounders FC  59  1.74  NaN  34  18  11   5  52  37   15   \n5   LAFCLos Angeles Football Club  57  1.68  NaN  34  16   9   9  68  52   16   \n6                    DALFC Dallas  57  1.68  NaN  34  16   9   9  52  44    8   \n7             NYCNew York City FC  56  1.65  NaN  34  16  10   8  59  45   14   \n8             PORPortland Timbers  54  1.59  NaN  34  15  10   9  54  48    6   \n9                   DCD.C. United  51   1.5  NaN  34  14  11   9  60  50   10   \n10            CLBColumbus Crew SC  51   1.5  NaN  34  14  11   9  43  45   -2   \n11          PHIPhiladelphia Union  50  1.47  NaN  34  15  14   5  49  50   -1   \n12              RSLReal Salt Lake  49  1.44  NaN  34  14  13   7  55  58   -3   \n13                    LALA Galaxy  48  1.41  NaN  34  13  12   9  66  64    2   \n14      VANVancouver Whitecaps FC  47  1.38  NaN  34  13  13   8  54  67  -13   \n15             MTLMontreal Impact  46  1.35  NaN  34  14  16   4  47  53   -6   \n16       NENew England Revolution  41  1.21  NaN  34  10  13  11  49  55   -6   \n17              HOUHouston Dynamo  38  1.12  NaN  34  10  16   8  58  58    0   \n18         MINMinnesota United FC  36  1.06  NaN  34  11  20   3  49  71  -22   \n19                  TORToronto FC  36  1.06  NaN  34  10  18   6  59  64   -5   \n20             CHIChicago Fire FC  32  0.94  NaN  34   8  18   8  48  61  -13   \n21             COLColorado Rapids  31  0.91  NaN  34   8  19   7  36  63  -27   \n22             ORLOrlando City SC  28  0.82  NaN  34   8  22   4  43  74  -31   \n23         SJSan Jose Earthquakes  21  0.62  NaN  34   4  21   9  49  71  -22   \n\n0   NaN   W-L-T  NaN   W-L-T  season  \n#                                     \n1   NaN  14-2-1  NaN   8-5-4    2018  \n2   NaN  11-2-4  NaN  10-5-2    2018  \n3   NaN  10-2-5  NaN   8-6-3    2018  \n4   NaN  10-5-2  NaN   8-6-3    2018  \n5   NaN   9-1-7  NaN   7-8-2    2018  \n6   NaN  10-2-5  NaN   6-7-4    2018  \n7   NaN  12-1-4  NaN   4-9-4    2018  \n8   NaN  11-2-4  NaN   4-8-5    2018  \n9   NaN  13-2-2  NaN   1-9-7    2018  \n10  NaN  11-2-4  NaN   3-9-5    2018  \n11  NaN   9-6-2  NaN   6-8-3    2018  \n12  NaN  11-2-4  NaN  3-11-3    2018  \n13  NaN   8-5-4  NaN   5-7-5    2018  \n14  NaN   7-5-5  NaN   6-8-3    2018  \n15  NaN  11-4-2  NaN  3-12-2    2018  \n16  NaN   8-4-5  NaN   2-9-6    2018  \n17  NaN   8-6-3  NaN  2-10-5    2018  \n18  NaN  10-6-1  NaN  1-14-2    2018  \n19  NaN   8-7-2  NaN  2-11-4    2018  \n20  NaN   6-7-4  NaN  2-11-4    2018  \n21  NaN   6-8-3  NaN  2-11-4    2018  \n22  NaN   6-7-4  NaN  2-15-0    2018  \n23  NaN   2-9-6  NaN  2-12-3    2018  ",
      "text/html": "<div>\n<style scoped>\n    .dataframe tbody tr th:only-of-type {\n        vertical-align: middle;\n    }\n\n    .dataframe tbody tr th {\n        vertical-align: top;\n    }\n\n    .dataframe thead th {\n        text-align: right;\n    }\n</style>\n<table border=\"1\" class=\"dataframe\">\n  <thead>\n    <tr style=\"text-align: right;\">\n      <th></th>\n      <th>Club</th>\n      <th>PTS</th>\n      <th>PPG</th>\n      <th>NaN</th>\n      <th>GP</th>\n      <th>W</th>\n      <th>L</th>\n      <th>T</th>\n      <th>GF</th>\n      <th>GA</th>\n      <th>GD</th>\n      <th>NaN</th>\n      <th>W-L-T</th>\n      <th>NaN</th>\n      <th>W-L-T</th>\n      <th>season</th>\n    </tr>\n    <tr>\n      <th>#</th>\n      <th></th>\n      <th></th>\n      <th></th>\n      <th></th>\n      <th></th>\n      <th></th>\n      <th></th>\n      <th></th>\n      <th></th>\n      <th></th>\n      <th></th>\n      <th></th>\n      <th></th>\n      <th></th>\n      <th></th>\n      <th></th>\n    </tr>\n  </thead>\n  <tbody>\n    <tr>\n      <th>1</th>\n      <td>RBNYNew York Red Bulls</td>\n      <td>71</td>\n      <td>2.09</td>\n      <td>NaN</td>\n      <td>34</td>\n      <td>22</td>\n      <td>7</td>\n      <td>5</td>\n      <td>62</td>\n      <td>33</td>\n      <td>29</td>\n      <td>NaN</td>\n      <td>14-2-1</td>\n      <td>NaN</td>\n      <td>8-5-4</td>\n      <td>2018</td>\n    </tr>\n    <tr>\n      <th>2</th>\n      <td>ATLAtlanta United FC</td>\n      <td>69</td>\n      <td>2.03</td>\n      <td>NaN</td>\n      <td>34</td>\n      <td>21</td>\n      <td>7</td>\n      <td>6</td>\n      <td>70</td>\n      <td>44</td>\n      <td>26</td>\n      <td>NaN</td>\n      <td>11-2-4</td>\n      <td>NaN</td>\n      <td>10-5-2</td>\n      <td>2018</td>\n    </tr>\n    <tr>\n      <th>3</th>\n      <td>SKCSporting Kansas City</td>\n      <td>62</td>\n      <td>1.82</td>\n      <td>NaN</td>\n      <td>34</td>\n      <td>18</td>\n      <td>8</td>\n      <td>8</td>\n      <td>65</td>\n      <td>40</td>\n      <td>25</td>\n      <td>NaN</td>\n      <td>10-2-5</td>\n      <td>NaN</td>\n      <td>8-6-3</td>\n      <td>2018</td>\n    </tr>\n    <tr>\n      <th>4</th>\n      <td>SEASeattle Sounders FC</td>\n      <td>59</td>\n      <td>1.74</td>\n      <td>NaN</td>\n      <td>34</td>\n      <td>18</td>\n      <td>11</td>\n      <td>5</td>\n      <td>52</td>\n      <td>37</td>\n      <td>15</td>\n      <td>NaN</td>\n      <td>10-5-2</td>\n      <td>NaN</td>\n      <td>8-6-3</td>\n      <td>2018</td>\n    </tr>\n    <tr>\n      <th>5</th>\n      <td>LAFCLos Angeles Football Club</td>\n      <td>57</td>\n      <td>1.68</td>\n      <td>NaN</td>\n      <td>34</td>\n      <td>16</td>\n      <td>9</td>\n      <td>9</td>\n      <td>68</td>\n      <td>52</td>\n      <td>16</td>\n      <td>NaN</td>\n      <td>9-1-7</td>\n      <td>NaN</td>\n      <td>7-8-2</td>\n      <td>2018</td>\n    </tr>\n    <tr>\n      <th>6</th>\n      <td>DALFC Dallas</td>\n      <td>57</td>\n      <td>1.68</td>\n      <td>NaN</td>\n      <td>34</td>\n      <td>16</td>\n      <td>9</td>\n      <td>9</td>\n      <td>52</td>\n      <td>44</td>\n      <td>8</td>\n      <td>NaN</td>\n      <td>10-2-5</td>\n      <td>NaN</td>\n      <td>6-7-4</td>\n      <td>2018</td>\n    </tr>\n    <tr>\n      <th>7</th>\n      <td>NYCNew York City FC</td>\n      <td>56</td>\n      <td>1.65</td>\n      <td>NaN</td>\n      <td>34</td>\n      <td>16</td>\n      <td>10</td>\n      <td>8</td>\n      <td>59</td>\n      <td>45</td>\n      <td>14</td>\n      <td>NaN</td>\n      <td>12-1-4</td>\n      <td>NaN</td>\n      <td>4-9-4</td>\n      <td>2018</td>\n    </tr>\n    <tr>\n      <th>8</th>\n      <td>PORPortland Timbers</td>\n      <td>54</td>\n      <td>1.59</td>\n      <td>NaN</td>\n      <td>34</td>\n      <td>15</td>\n      <td>10</td>\n      <td>9</td>\n      <td>54</td>\n      <td>48</td>\n      <td>6</td>\n      <td>NaN</td>\n      <td>11-2-4</td>\n      <td>NaN</td>\n      <td>4-8-5</td>\n      <td>2018</td>\n    </tr>\n    <tr>\n      <th>9</th>\n      <td>DCD.C. United</td>\n      <td>51</td>\n      <td>1.5</td>\n      <td>NaN</td>\n      <td>34</td>\n      <td>14</td>\n      <td>11</td>\n      <td>9</td>\n      <td>60</td>\n      <td>50</td>\n      <td>10</td>\n      <td>NaN</td>\n      <td>13-2-2</td>\n      <td>NaN</td>\n      <td>1-9-7</td>\n      <td>2018</td>\n    </tr>\n    <tr>\n      <th>10</th>\n      <td>CLBColumbus Crew SC</td>\n      <td>51</td>\n      <td>1.5</td>\n      <td>NaN</td>\n      <td>34</td>\n      <td>14</td>\n      <td>11</td>\n      <td>9</td>\n      <td>43</td>\n      <td>45</td>\n      <td>-2</td>\n      <td>NaN</td>\n      <td>11-2-4</td>\n      <td>NaN</td>\n      <td>3-9-5</td>\n      <td>2018</td>\n    </tr>\n    <tr>\n      <th>11</th>\n      <td>PHIPhiladelphia Union</td>\n      <td>50</td>\n      <td>1.47</td>\n      <td>NaN</td>\n      <td>34</td>\n      <td>15</td>\n      <td>14</td>\n      <td>5</td>\n      <td>49</td>\n      <td>50</td>\n      <td>-1</td>\n      <td>NaN</td>\n      <td>9-6-2</td>\n      <td>NaN</td>\n      <td>6-8-3</td>\n      <td>2018</td>\n    </tr>\n    <tr>\n      <th>12</th>\n      <td>RSLReal Salt Lake</td>\n      <td>49</td>\n      <td>1.44</td>\n      <td>NaN</td>\n      <td>34</td>\n      <td>14</td>\n      <td>13</td>\n      <td>7</td>\n      <td>55</td>\n      <td>58</td>\n      <td>-3</td>\n      <td>NaN</td>\n      <td>11-2-4</td>\n      <td>NaN</td>\n      <td>3-11-3</td>\n      <td>2018</td>\n    </tr>\n    <tr>\n      <th>13</th>\n      <td>LALA Galaxy</td>\n      <td>48</td>\n      <td>1.41</td>\n      <td>NaN</td>\n      <td>34</td>\n      <td>13</td>\n      <td>12</td>\n      <td>9</td>\n      <td>66</td>\n      <td>64</td>\n      <td>2</td>\n      <td>NaN</td>\n      <td>8-5-4</td>\n      <td>NaN</td>\n      <td>5-7-5</td>\n      <td>2018</td>\n    </tr>\n    <tr>\n      <th>14</th>\n      <td>VANVancouver Whitecaps FC</td>\n      <td>47</td>\n      <td>1.38</td>\n      <td>NaN</td>\n      <td>34</td>\n      <td>13</td>\n      <td>13</td>\n      <td>8</td>\n      <td>54</td>\n      <td>67</td>\n      <td>-13</td>\n      <td>NaN</td>\n      <td>7-5-5</td>\n      <td>NaN</td>\n      <td>6-8-3</td>\n      <td>2018</td>\n    </tr>\n    <tr>\n      <th>15</th>\n      <td>MTLMontreal Impact</td>\n      <td>46</td>\n      <td>1.35</td>\n      <td>NaN</td>\n      <td>34</td>\n      <td>14</td>\n      <td>16</td>\n      <td>4</td>\n      <td>47</td>\n      <td>53</td>\n      <td>-6</td>\n      <td>NaN</td>\n      <td>11-4-2</td>\n      <td>NaN</td>\n      <td>3-12-2</td>\n      <td>2018</td>\n    </tr>\n    <tr>\n      <th>16</th>\n      <td>NENew England Revolution</td>\n      <td>41</td>\n      <td>1.21</td>\n      <td>NaN</td>\n      <td>34</td>\n      <td>10</td>\n      <td>13</td>\n      <td>11</td>\n      <td>49</td>\n      <td>55</td>\n      <td>-6</td>\n      <td>NaN</td>\n      <td>8-4-5</td>\n      <td>NaN</td>\n      <td>2-9-6</td>\n      <td>2018</td>\n    </tr>\n    <tr>\n      <th>17</th>\n      <td>HOUHouston Dynamo</td>\n      <td>38</td>\n      <td>1.12</td>\n      <td>NaN</td>\n      <td>34</td>\n      <td>10</td>\n      <td>16</td>\n      <td>8</td>\n      <td>58</td>\n      <td>58</td>\n      <td>0</td>\n      <td>NaN</td>\n      <td>8-6-3</td>\n      <td>NaN</td>\n      <td>2-10-5</td>\n      <td>2018</td>\n    </tr>\n    <tr>\n      <th>18</th>\n      <td>MINMinnesota United FC</td>\n      <td>36</td>\n      <td>1.06</td>\n      <td>NaN</td>\n      <td>34</td>\n      <td>11</td>\n      <td>20</td>\n      <td>3</td>\n      <td>49</td>\n      <td>71</td>\n      <td>-22</td>\n      <td>NaN</td>\n      <td>10-6-1</td>\n      <td>NaN</td>\n      <td>1-14-2</td>\n      <td>2018</td>\n    </tr>\n    <tr>\n      <th>19</th>\n      <td>TORToronto FC</td>\n      <td>36</td>\n      <td>1.06</td>\n      <td>NaN</td>\n      <td>34</td>\n      <td>10</td>\n      <td>18</td>\n      <td>6</td>\n      <td>59</td>\n      <td>64</td>\n      <td>-5</td>\n      <td>NaN</td>\n      <td>8-7-2</td>\n      <td>NaN</td>\n      <td>2-11-4</td>\n      <td>2018</td>\n    </tr>\n    <tr>\n      <th>20</th>\n      <td>CHIChicago Fire FC</td>\n      <td>32</td>\n      <td>0.94</td>\n      <td>NaN</td>\n      <td>34</td>\n      <td>8</td>\n      <td>18</td>\n      <td>8</td>\n      <td>48</td>\n      <td>61</td>\n      <td>-13</td>\n      <td>NaN</td>\n      <td>6-7-4</td>\n      <td>NaN</td>\n      <td>2-11-4</td>\n      <td>2018</td>\n    </tr>\n    <tr>\n      <th>21</th>\n      <td>COLColorado Rapids</td>\n      <td>31</td>\n      <td>0.91</td>\n      <td>NaN</td>\n      <td>34</td>\n      <td>8</td>\n      <td>19</td>\n      <td>7</td>\n      <td>36</td>\n      <td>63</td>\n      <td>-27</td>\n      <td>NaN</td>\n      <td>6-8-3</td>\n      <td>NaN</td>\n      <td>2-11-4</td>\n      <td>2018</td>\n    </tr>\n    <tr>\n      <th>22</th>\n      <td>ORLOrlando City SC</td>\n      <td>28</td>\n      <td>0.82</td>\n      <td>NaN</td>\n      <td>34</td>\n      <td>8</td>\n      <td>22</td>\n      <td>4</td>\n      <td>43</td>\n      <td>74</td>\n      <td>-31</td>\n      <td>NaN</td>\n      <td>6-7-4</td>\n      <td>NaN</td>\n      <td>2-15-0</td>\n      <td>2018</td>\n    </tr>\n    <tr>\n      <th>23</th>\n      <td>SJSan Jose Earthquakes</td>\n      <td>21</td>\n      <td>0.62</td>\n      <td>NaN</td>\n      <td>34</td>\n      <td>4</td>\n      <td>21</td>\n      <td>9</td>\n      <td>49</td>\n      <td>71</td>\n      <td>-22</td>\n      <td>NaN</td>\n      <td>2-9-6</td>\n      <td>NaN</td>\n      <td>2-12-3</td>\n      <td>2018</td>\n    </tr>\n  </tbody>\n</table>\n</div>"
     },
     "metadata": {},
     "execution_count": 15
    }
   ],
   "source": [
    "df.set_index('#', inplace=True)\n",
    "df"
   ]
  },
  {
   "cell_type": "code",
   "execution_count": 9,
   "metadata": {},
   "outputs": [
    {
     "output_type": "execute_result",
     "data": {
      "text/plain": "0    #                           Club PTS   PPG  NaN  GP   W   L   T  GF  GA  \\\n1    1         RBNYNew York Red Bulls  71  2.09  NaN  34  22   7   5  62  33   \n2    2           ATLAtlanta United FC  69  2.03  NaN  34  21   7   6  70  44   \n3    3        SKCSporting Kansas City  62  1.82  NaN  34  18   8   8  65  40   \n4    4         SEASeattle Sounders FC  59  1.74  NaN  34  18  11   5  52  37   \n5    5  LAFCLos Angeles Football Club  57  1.68  NaN  34  16   9   9  68  52   \n6    6                   DALFC Dallas  57  1.68  NaN  34  16   9   9  52  44   \n7    7            NYCNew York City FC  56  1.65  NaN  34  16  10   8  59  45   \n8    8            PORPortland Timbers  54  1.59  NaN  34  15  10   9  54  48   \n9    9                  DCD.C. United  51   1.5  NaN  34  14  11   9  60  50   \n10  10            CLBColumbus Crew SC  51   1.5  NaN  34  14  11   9  43  45   \n11  11          PHIPhiladelphia Union  50  1.47  NaN  34  15  14   5  49  50   \n12  12              RSLReal Salt Lake  49  1.44  NaN  34  14  13   7  55  58   \n13  13                    LALA Galaxy  48  1.41  NaN  34  13  12   9  66  64   \n14  14      VANVancouver Whitecaps FC  47  1.38  NaN  34  13  13   8  54  67   \n15  15             MTLMontreal Impact  46  1.35  NaN  34  14  16   4  47  53   \n16  16       NENew England Revolution  41  1.21  NaN  34  10  13  11  49  55   \n17  17              HOUHouston Dynamo  38  1.12  NaN  34  10  16   8  58  58   \n18  18         MINMinnesota United FC  36  1.06  NaN  34  11  20   3  49  71   \n19  19                  TORToronto FC  36  1.06  NaN  34  10  18   6  59  64   \n20  20             CHIChicago Fire FC  32  0.94  NaN  34   8  18   8  48  61   \n21  21             COLColorado Rapids  31  0.91  NaN  34   8  19   7  36  63   \n22  22             ORLOrlando City SC  28  0.82  NaN  34   8  22   4  43  74   \n23  23         SJSan Jose Earthquakes  21  0.62  NaN  34   4  21   9  49  71   \n\n0    GD  NaN   W-L-T  NaN   W-L-T  season  \n1    29  NaN  14-2-1  NaN   8-5-4    2018  \n2    26  NaN  11-2-4  NaN  10-5-2    2018  \n3    25  NaN  10-2-5  NaN   8-6-3    2018  \n4    15  NaN  10-5-2  NaN   8-6-3    2018  \n5    16  NaN   9-1-7  NaN   7-8-2    2018  \n6     8  NaN  10-2-5  NaN   6-7-4    2018  \n7    14  NaN  12-1-4  NaN   4-9-4    2018  \n8     6  NaN  11-2-4  NaN   4-8-5    2018  \n9    10  NaN  13-2-2  NaN   1-9-7    2018  \n10   -2  NaN  11-2-4  NaN   3-9-5    2018  \n11   -1  NaN   9-6-2  NaN   6-8-3    2018  \n12   -3  NaN  11-2-4  NaN  3-11-3    2018  \n13    2  NaN   8-5-4  NaN   5-7-5    2018  \n14  -13  NaN   7-5-5  NaN   6-8-3    2018  \n15   -6  NaN  11-4-2  NaN  3-12-2    2018  \n16   -6  NaN   8-4-5  NaN   2-9-6    2018  \n17    0  NaN   8-6-3  NaN  2-10-5    2018  \n18  -22  NaN  10-6-1  NaN  1-14-2    2018  \n19   -5  NaN   8-7-2  NaN  2-11-4    2018  \n20  -13  NaN   6-7-4  NaN  2-11-4    2018  \n21  -27  NaN   6-8-3  NaN  2-11-4    2018  \n22  -31  NaN   6-7-4  NaN  2-15-0    2018  \n23  -22  NaN   2-9-6  NaN  2-12-3    2018  ",
      "text/html": "<div>\n<style scoped>\n    .dataframe tbody tr th:only-of-type {\n        vertical-align: middle;\n    }\n\n    .dataframe tbody tr th {\n        vertical-align: top;\n    }\n\n    .dataframe thead th {\n        text-align: right;\n    }\n</style>\n<table border=\"1\" class=\"dataframe\">\n  <thead>\n    <tr style=\"text-align: right;\">\n      <th></th>\n      <th>#</th>\n      <th>Club</th>\n      <th>PTS</th>\n      <th>PPG</th>\n      <th>NaN</th>\n      <th>GP</th>\n      <th>W</th>\n      <th>L</th>\n      <th>T</th>\n      <th>GF</th>\n      <th>GA</th>\n      <th>GD</th>\n      <th>NaN</th>\n      <th>W-L-T</th>\n      <th>NaN</th>\n      <th>W-L-T</th>\n      <th>season</th>\n    </tr>\n  </thead>\n  <tbody>\n    <tr>\n      <th>1</th>\n      <td>1</td>\n      <td>RBNYNew York Red Bulls</td>\n      <td>71</td>\n      <td>2.09</td>\n      <td>NaN</td>\n      <td>34</td>\n      <td>22</td>\n      <td>7</td>\n      <td>5</td>\n      <td>62</td>\n      <td>33</td>\n      <td>29</td>\n      <td>NaN</td>\n      <td>14-2-1</td>\n      <td>NaN</td>\n      <td>8-5-4</td>\n      <td>2018</td>\n    </tr>\n    <tr>\n      <th>2</th>\n      <td>2</td>\n      <td>ATLAtlanta United FC</td>\n      <td>69</td>\n      <td>2.03</td>\n      <td>NaN</td>\n      <td>34</td>\n      <td>21</td>\n      <td>7</td>\n      <td>6</td>\n      <td>70</td>\n      <td>44</td>\n      <td>26</td>\n      <td>NaN</td>\n      <td>11-2-4</td>\n      <td>NaN</td>\n      <td>10-5-2</td>\n      <td>2018</td>\n    </tr>\n    <tr>\n      <th>3</th>\n      <td>3</td>\n      <td>SKCSporting Kansas City</td>\n      <td>62</td>\n      <td>1.82</td>\n      <td>NaN</td>\n      <td>34</td>\n      <td>18</td>\n      <td>8</td>\n      <td>8</td>\n      <td>65</td>\n      <td>40</td>\n      <td>25</td>\n      <td>NaN</td>\n      <td>10-2-5</td>\n      <td>NaN</td>\n      <td>8-6-3</td>\n      <td>2018</td>\n    </tr>\n    <tr>\n      <th>4</th>\n      <td>4</td>\n      <td>SEASeattle Sounders FC</td>\n      <td>59</td>\n      <td>1.74</td>\n      <td>NaN</td>\n      <td>34</td>\n      <td>18</td>\n      <td>11</td>\n      <td>5</td>\n      <td>52</td>\n      <td>37</td>\n      <td>15</td>\n      <td>NaN</td>\n      <td>10-5-2</td>\n      <td>NaN</td>\n      <td>8-6-3</td>\n      <td>2018</td>\n    </tr>\n    <tr>\n      <th>5</th>\n      <td>5</td>\n      <td>LAFCLos Angeles Football Club</td>\n      <td>57</td>\n      <td>1.68</td>\n      <td>NaN</td>\n      <td>34</td>\n      <td>16</td>\n      <td>9</td>\n      <td>9</td>\n      <td>68</td>\n      <td>52</td>\n      <td>16</td>\n      <td>NaN</td>\n      <td>9-1-7</td>\n      <td>NaN</td>\n      <td>7-8-2</td>\n      <td>2018</td>\n    </tr>\n    <tr>\n      <th>6</th>\n      <td>6</td>\n      <td>DALFC Dallas</td>\n      <td>57</td>\n      <td>1.68</td>\n      <td>NaN</td>\n      <td>34</td>\n      <td>16</td>\n      <td>9</td>\n      <td>9</td>\n      <td>52</td>\n      <td>44</td>\n      <td>8</td>\n      <td>NaN</td>\n      <td>10-2-5</td>\n      <td>NaN</td>\n      <td>6-7-4</td>\n      <td>2018</td>\n    </tr>\n    <tr>\n      <th>7</th>\n      <td>7</td>\n      <td>NYCNew York City FC</td>\n      <td>56</td>\n      <td>1.65</td>\n      <td>NaN</td>\n      <td>34</td>\n      <td>16</td>\n      <td>10</td>\n      <td>8</td>\n      <td>59</td>\n      <td>45</td>\n      <td>14</td>\n      <td>NaN</td>\n      <td>12-1-4</td>\n      <td>NaN</td>\n      <td>4-9-4</td>\n      <td>2018</td>\n    </tr>\n    <tr>\n      <th>8</th>\n      <td>8</td>\n      <td>PORPortland Timbers</td>\n      <td>54</td>\n      <td>1.59</td>\n      <td>NaN</td>\n      <td>34</td>\n      <td>15</td>\n      <td>10</td>\n      <td>9</td>\n      <td>54</td>\n      <td>48</td>\n      <td>6</td>\n      <td>NaN</td>\n      <td>11-2-4</td>\n      <td>NaN</td>\n      <td>4-8-5</td>\n      <td>2018</td>\n    </tr>\n    <tr>\n      <th>9</th>\n      <td>9</td>\n      <td>DCD.C. United</td>\n      <td>51</td>\n      <td>1.5</td>\n      <td>NaN</td>\n      <td>34</td>\n      <td>14</td>\n      <td>11</td>\n      <td>9</td>\n      <td>60</td>\n      <td>50</td>\n      <td>10</td>\n      <td>NaN</td>\n      <td>13-2-2</td>\n      <td>NaN</td>\n      <td>1-9-7</td>\n      <td>2018</td>\n    </tr>\n    <tr>\n      <th>10</th>\n      <td>10</td>\n      <td>CLBColumbus Crew SC</td>\n      <td>51</td>\n      <td>1.5</td>\n      <td>NaN</td>\n      <td>34</td>\n      <td>14</td>\n      <td>11</td>\n      <td>9</td>\n      <td>43</td>\n      <td>45</td>\n      <td>-2</td>\n      <td>NaN</td>\n      <td>11-2-4</td>\n      <td>NaN</td>\n      <td>3-9-5</td>\n      <td>2018</td>\n    </tr>\n    <tr>\n      <th>11</th>\n      <td>11</td>\n      <td>PHIPhiladelphia Union</td>\n      <td>50</td>\n      <td>1.47</td>\n      <td>NaN</td>\n      <td>34</td>\n      <td>15</td>\n      <td>14</td>\n      <td>5</td>\n      <td>49</td>\n      <td>50</td>\n      <td>-1</td>\n      <td>NaN</td>\n      <td>9-6-2</td>\n      <td>NaN</td>\n      <td>6-8-3</td>\n      <td>2018</td>\n    </tr>\n    <tr>\n      <th>12</th>\n      <td>12</td>\n      <td>RSLReal Salt Lake</td>\n      <td>49</td>\n      <td>1.44</td>\n      <td>NaN</td>\n      <td>34</td>\n      <td>14</td>\n      <td>13</td>\n      <td>7</td>\n      <td>55</td>\n      <td>58</td>\n      <td>-3</td>\n      <td>NaN</td>\n      <td>11-2-4</td>\n      <td>NaN</td>\n      <td>3-11-3</td>\n      <td>2018</td>\n    </tr>\n    <tr>\n      <th>13</th>\n      <td>13</td>\n      <td>LALA Galaxy</td>\n      <td>48</td>\n      <td>1.41</td>\n      <td>NaN</td>\n      <td>34</td>\n      <td>13</td>\n      <td>12</td>\n      <td>9</td>\n      <td>66</td>\n      <td>64</td>\n      <td>2</td>\n      <td>NaN</td>\n      <td>8-5-4</td>\n      <td>NaN</td>\n      <td>5-7-5</td>\n      <td>2018</td>\n    </tr>\n    <tr>\n      <th>14</th>\n      <td>14</td>\n      <td>VANVancouver Whitecaps FC</td>\n      <td>47</td>\n      <td>1.38</td>\n      <td>NaN</td>\n      <td>34</td>\n      <td>13</td>\n      <td>13</td>\n      <td>8</td>\n      <td>54</td>\n      <td>67</td>\n      <td>-13</td>\n      <td>NaN</td>\n      <td>7-5-5</td>\n      <td>NaN</td>\n      <td>6-8-3</td>\n      <td>2018</td>\n    </tr>\n    <tr>\n      <th>15</th>\n      <td>15</td>\n      <td>MTLMontreal Impact</td>\n      <td>46</td>\n      <td>1.35</td>\n      <td>NaN</td>\n      <td>34</td>\n      <td>14</td>\n      <td>16</td>\n      <td>4</td>\n      <td>47</td>\n      <td>53</td>\n      <td>-6</td>\n      <td>NaN</td>\n      <td>11-4-2</td>\n      <td>NaN</td>\n      <td>3-12-2</td>\n      <td>2018</td>\n    </tr>\n    <tr>\n      <th>16</th>\n      <td>16</td>\n      <td>NENew England Revolution</td>\n      <td>41</td>\n      <td>1.21</td>\n      <td>NaN</td>\n      <td>34</td>\n      <td>10</td>\n      <td>13</td>\n      <td>11</td>\n      <td>49</td>\n      <td>55</td>\n      <td>-6</td>\n      <td>NaN</td>\n      <td>8-4-5</td>\n      <td>NaN</td>\n      <td>2-9-6</td>\n      <td>2018</td>\n    </tr>\n    <tr>\n      <th>17</th>\n      <td>17</td>\n      <td>HOUHouston Dynamo</td>\n      <td>38</td>\n      <td>1.12</td>\n      <td>NaN</td>\n      <td>34</td>\n      <td>10</td>\n      <td>16</td>\n      <td>8</td>\n      <td>58</td>\n      <td>58</td>\n      <td>0</td>\n      <td>NaN</td>\n      <td>8-6-3</td>\n      <td>NaN</td>\n      <td>2-10-5</td>\n      <td>2018</td>\n    </tr>\n    <tr>\n      <th>18</th>\n      <td>18</td>\n      <td>MINMinnesota United FC</td>\n      <td>36</td>\n      <td>1.06</td>\n      <td>NaN</td>\n      <td>34</td>\n      <td>11</td>\n      <td>20</td>\n      <td>3</td>\n      <td>49</td>\n      <td>71</td>\n      <td>-22</td>\n      <td>NaN</td>\n      <td>10-6-1</td>\n      <td>NaN</td>\n      <td>1-14-2</td>\n      <td>2018</td>\n    </tr>\n    <tr>\n      <th>19</th>\n      <td>19</td>\n      <td>TORToronto FC</td>\n      <td>36</td>\n      <td>1.06</td>\n      <td>NaN</td>\n      <td>34</td>\n      <td>10</td>\n      <td>18</td>\n      <td>6</td>\n      <td>59</td>\n      <td>64</td>\n      <td>-5</td>\n      <td>NaN</td>\n      <td>8-7-2</td>\n      <td>NaN</td>\n      <td>2-11-4</td>\n      <td>2018</td>\n    </tr>\n    <tr>\n      <th>20</th>\n      <td>20</td>\n      <td>CHIChicago Fire FC</td>\n      <td>32</td>\n      <td>0.94</td>\n      <td>NaN</td>\n      <td>34</td>\n      <td>8</td>\n      <td>18</td>\n      <td>8</td>\n      <td>48</td>\n      <td>61</td>\n      <td>-13</td>\n      <td>NaN</td>\n      <td>6-7-4</td>\n      <td>NaN</td>\n      <td>2-11-4</td>\n      <td>2018</td>\n    </tr>\n    <tr>\n      <th>21</th>\n      <td>21</td>\n      <td>COLColorado Rapids</td>\n      <td>31</td>\n      <td>0.91</td>\n      <td>NaN</td>\n      <td>34</td>\n      <td>8</td>\n      <td>19</td>\n      <td>7</td>\n      <td>36</td>\n      <td>63</td>\n      <td>-27</td>\n      <td>NaN</td>\n      <td>6-8-3</td>\n      <td>NaN</td>\n      <td>2-11-4</td>\n      <td>2018</td>\n    </tr>\n    <tr>\n      <th>22</th>\n      <td>22</td>\n      <td>ORLOrlando City SC</td>\n      <td>28</td>\n      <td>0.82</td>\n      <td>NaN</td>\n      <td>34</td>\n      <td>8</td>\n      <td>22</td>\n      <td>4</td>\n      <td>43</td>\n      <td>74</td>\n      <td>-31</td>\n      <td>NaN</td>\n      <td>6-7-4</td>\n      <td>NaN</td>\n      <td>2-15-0</td>\n      <td>2018</td>\n    </tr>\n    <tr>\n      <th>23</th>\n      <td>23</td>\n      <td>SJSan Jose Earthquakes</td>\n      <td>21</td>\n      <td>0.62</td>\n      <td>NaN</td>\n      <td>34</td>\n      <td>4</td>\n      <td>21</td>\n      <td>9</td>\n      <td>49</td>\n      <td>71</td>\n      <td>-22</td>\n      <td>NaN</td>\n      <td>2-9-6</td>\n      <td>NaN</td>\n      <td>2-12-3</td>\n      <td>2018</td>\n    </tr>\n  </tbody>\n</table>\n</div>"
     },
     "metadata": {},
     "execution_count": 9
    }
   ],
   "source": [
    "df[\"season\"]=2018\n",
    "df"
   ]
  },
  {
   "cell_type": "code",
   "execution_count": 22,
   "metadata": {},
   "outputs": [],
   "source": [
    "import sqlalchemy\n",
    "from sqlalchemy.ext.automap import automap_base\n",
    "from sqlalchemy.orm import Session\n",
    "from sqlalchemy import create_engine, inspect"
   ]
  },
  {
   "cell_type": "code",
   "execution_count": 33,
   "metadata": {},
   "outputs": [],
   "source": [
    "engine = create_engine(\"sqlite:///Resources/mlsseasons.sqlite\", echo=False)\n",
    "#engine = create_engine(\"sqlite://\", echo=False)"
   ]
  },
  {
   "cell_type": "code",
   "execution_count": 34,
   "metadata": {},
   "outputs": [
    {
     "output_type": "execute_result",
     "data": {
      "text/plain": "Engine(sqlite:///Resources/mlsseasons.sqlite)"
     },
     "metadata": {},
     "execution_count": 34
    }
   ],
   "source": [
    "engine"
   ]
  },
  {
   "cell_type": "code",
   "execution_count": 35,
   "metadata": {},
   "outputs": [],
   "source": [
    "df.to_sql(\"seasons\", con=engine)"
   ]
  },
  {
   "cell_type": "code",
   "execution_count": 36,
   "metadata": {},
   "outputs": [
    {
     "output_type": "execute_result",
     "data": {
      "text/plain": "(23,)"
     },
     "metadata": {},
     "execution_count": 36
    }
   ],
   "source": [
    "engine.execute(\"select count(*) from seasons\").first()"
   ]
  },
  {
   "cell_type": "code",
   "execution_count": 37,
   "metadata": {},
   "outputs": [
    {
     "output_type": "execute_result",
     "data": {
      "text/plain": "[]"
     },
     "metadata": {},
     "execution_count": 37
    }
   ],
   "source": [
    "# Reflect Database into ORM classes\n",
    "Base = automap_base()\n",
    "Base.prepare(engine, reflect=True)\n",
    "Base.classes.keys()"
   ]
  },
  {
   "cell_type": "code",
   "execution_count": 40,
   "metadata": {},
   "outputs": [
    {
     "output_type": "stream",
     "name": "stdout",
     "text": "https://www.mlssoccer.com/standings/supporters-shield/2007/\nhttps://www.mlssoccer.com/standings/supporters-shield/2008/\nhttps://www.mlssoccer.com/standings/supporters-shield/2009/\nhttps://www.mlssoccer.com/standings/supporters-shield/2010/\nhttps://www.mlssoccer.com/standings/supporters-shield/2011/\nhttps://www.mlssoccer.com/standings/supporters-shield/2012/\nhttps://www.mlssoccer.com/standings/supporters-shield/2013/\nhttps://www.mlssoccer.com/standings/supporters-shield/2014/\nhttps://www.mlssoccer.com/standings/supporters-shield/2015/\nhttps://www.mlssoccer.com/standings/supporters-shield/2016/\nhttps://www.mlssoccer.com/standings/supporters-shield/2017/\nhttps://www.mlssoccer.com/standings/supporters-shield/2018/\n"
    },
    {
     "output_type": "execute_result",
     "data": {
      "text/plain": "(218,)"
     },
     "metadata": {},
     "execution_count": 40
    }
   ],
   "source": [
    "engine.execute(\"drop table seasons\")\n",
    "for year in range(2007, 2019):\n",
    "    url = f\"https://www.mlssoccer.com/standings/supporters-shield/{year}/\"\n",
    "    print(url)\n",
    "    tables = pd.read_html(url)\n",
    "    df = tables[0]\n",
    "    df.columns = df.loc[df.index[0]]\n",
    "    df.drop([0],inplace= True)\n",
    "    df.set_index('#', inplace=True)\n",
    "    df[\"season\"] = year\n",
    "    df.to_sql(\"seasons\", con=engine, if_exists='append')\n",
    "\n",
    "engine.execute(\"select count(*) from seasons\").first()"
   ]
  },
  {
   "cell_type": "code",
   "execution_count": null,
   "metadata": {},
   "outputs": [],
   "source": []
  },
  {
   "cell_type": "code",
   "execution_count": null,
   "metadata": {},
   "outputs": [],
   "source": []
  },
  {
   "cell_type": "code",
   "execution_count": null,
   "metadata": {},
   "outputs": [],
   "source": []
  },
  {
   "cell_type": "code",
   "execution_count": null,
   "metadata": {},
   "outputs": [],
   "source": []
  },
  {
   "cell_type": "code",
   "execution_count": null,
   "metadata": {},
   "outputs": [],
   "source": []
  }
 ],
 "metadata": {
  "kernelspec": {
   "display_name": "Python 3.6.9 64-bit",
   "language": "python",
   "name": "python36964bite81b9c22691d424aad861648dc7efffd"
  },
  "language_info": {
   "codemirror_mode": {
    "name": "ipython",
    "version": 3
   },
   "file_extension": ".py",
   "mimetype": "text/x-python",
   "name": "python",
   "nbconvert_exporter": "python",
   "pygments_lexer": "ipython3",
   "version": "3.6.9-final"
  }
 },
 "nbformat": 4,
 "nbformat_minor": 4
}